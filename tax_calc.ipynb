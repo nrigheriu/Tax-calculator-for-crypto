{
 "cells": [
  {
   "cell_type": "code",
   "execution_count": null,
   "id": "ae02b0de",
   "metadata": {},
   "outputs": [],
   "source": [
    "import pandas as pd\n",
    "import datetime as dt\n",
    "pd.options.mode.chained_assignment = None"
   ]
  },
  {
   "cell_type": "code",
   "execution_count": null,
   "id": "c236ca30",
   "metadata": {},
   "outputs": [],
   "source": [
    "trades = pd.read_csv(\"bitpanda-trades.csv\", sep=\";\")"
   ]
  },
  {
   "cell_type": "code",
   "execution_count": null,
   "id": "02b84673",
   "metadata": {},
   "outputs": [],
   "source": [
    "trades['Timestamp2'] = pd.to_datetime(trades['Timestamp2'])\n",
    "trades[\"year\"] =  trades['Timestamp2'].dt.year\n",
    "trades[[\"Asset market price\"]] = trades[[\"Asset market price\"]].apply(pd.to_numeric, errors=\"coerce\")\n",
    "trades[[\"Amount Asset\"]] = trades[[\"Amount Asset\"]].apply(pd.to_numeric, errors=\"coerce\")"
   ]
  },
  {
   "cell_type": "code",
   "execution_count": null,
   "id": "08514d94",
   "metadata": {},
   "outputs": [],
   "source": [
    "years = trades[\"year\"].unique()\n",
    "assets = list(trades[\"Asset\"].unique())"
   ]
  },
  {
   "cell_type": "code",
   "execution_count": null,
   "id": "d03206f6",
   "metadata": {},
   "outputs": [],
   "source": [
    "def get_empty_yearly_profits():\n",
    "    yearly_profits = {}\n",
    "    for year in years:\n",
    "        profit_year = {\"untaxable_profit\": 0.0, \"taxable_profit\":0.0,\n",
    "                       \"total_profit\": 0.0, \"profit_per_asset\":{}}\n",
    "        for asset in assets:\n",
    "            profit_year[\"profit_per_asset\"][asset] = {}\n",
    "            profit_year[\"profit_per_asset\"][asset][\"taxable_profit\"] = 0.0\n",
    "            profit_year[\"profit_per_asset\"][asset][\"untaxable_profit\"] = 0.0\n",
    "            profit_year[\"profit_per_asset\"][asset][\"total_profit\"] = 0.0\n",
    "        yearly_profits[year] = profit_year\n",
    "    return yearly_profits"
   ]
  },
  {
   "cell_type": "markdown",
   "id": "bf57fe72",
   "metadata": {},
   "source": [
    "## Buy / sell tables\n",
    "\n"
   ]
  },
  {
   "cell_type": "code",
   "execution_count": null,
   "id": "bc8bb2be",
   "metadata": {},
   "outputs": [],
   "source": [
    "def get_buy_sell_tables():\n",
    "    buy_tables = {}\n",
    "    sell_tables = {}\n",
    "    for asset in assets:\n",
    "        buy_tables[asset] = trades[(trades[\"Asset\"] == asset) & (trades[\"Transaction Type\"] == \"buy\")].copy()\n",
    "        buy_tables[asset][\"leftovers\"] = buy_tables[asset][\"Amount Asset\"]\n",
    "        buy_tables[asset] = buy_tables[asset].reset_index(drop=True)\n",
    "        sell_tables[asset] = trades[(trades[\"Asset\"] == asset) & (trades[\"Transaction Type\"] == \"sell\")].copy()\n",
    "        sell_tables[asset][\"leftovers\"] = sell_tables[asset][\"Amount Asset\"]\n",
    "        sell_tables[asset] = sell_tables[asset].reset_index(drop=True)\n",
    "\n",
    "    return buy_tables, sell_tables\n",
    "buy_tables, sell_tables = create_buy_sell_tables()"
   ]
  },
  {
   "cell_type": "code",
   "execution_count": null,
   "id": "d6b39bc5",
   "metadata": {},
   "outputs": [],
   "source": [
    "iter_show = 6\n",
    "asset = \"DASH\"\n",
    "col_selection = [\"Timestamp2\", \"Transaction Type\", \"Amount Fiat\", \"Amount Asset\", \"Asset\", \"Asset market price\",\n",
    "                \"year\", \"leftovers\"]\n",
    "buy_tables[asset][:][col_selection]"
   ]
  },
  {
   "cell_type": "code",
   "execution_count": null,
   "id": "cf3dfe84",
   "metadata": {
    "scrolled": true
   },
   "outputs": [],
   "source": [
    "sell_tables[asset][:][col_selection]"
   ]
  },
  {
   "cell_type": "code",
   "execution_count": null,
   "id": "f3e9a6e0",
   "metadata": {},
   "outputs": [],
   "source": [
    "#assets = [\"DASH\"]\n",
    "yearly_profits = get_empty_yearly_profits()\n",
    "buy_tables, sell_tables = get_buy_sell_tables()\n",
    "for asset in assets:\n",
    "    buy_iter = 0\n",
    "    sell_iter = 0\n",
    "    while sell_iter  < len(sell_tables[asset]) and buy_iter < len(buy_tables[asset]):\n",
    "        subtraction_amount = min(sell_tables[asset][\"leftovers\"][sell_iter], buy_tables[asset][\"leftovers\"][buy_iter])\n",
    "\n",
    "        profits = (sell_tables[asset][\"Asset market price\"][sell_iter] * subtraction_amount) -  \\\n",
    "                    (buy_tables[asset][\"Asset market price\"][buy_iter] * subtraction_amount)\n",
    "\n",
    "        days_diff = (sell_tables[asset][\"Timestamp2\"][sell_iter] - buy_tables[asset][\"Timestamp2\"][buy_iter]).days\n",
    "        if days_diff > 365:\n",
    "            yearly_profits[sell_tables[asset][\"year\"][sell_iter]][\"profit_per_asset\"][asset][\"untaxable_profit\"] += profits\n",
    "            yearly_profits[sell_tables[asset][\"year\"][sell_iter]][\"untaxable_profit\"] += profits\n",
    "        else:\n",
    "            yearly_profits[sell_tables[asset][\"year\"][sell_iter]][\"profit_per_asset\"][asset][\"taxable_profit\"] += profits\n",
    "            yearly_profits[sell_tables[asset][\"year\"][sell_iter]][\"taxable_profit\"] += profits\n",
    "        yearly_profits[sell_tables[asset][\"year\"][sell_iter]][\"profit_per_asset\"][asset][\"total_profit\"] += profits\n",
    "        yearly_profits[sell_tables[asset][\"year\"][sell_iter]][\"total_profit\"] += profits\n",
    "\n",
    "        leftovers = sell_tables[asset][\"leftovers\"][sell_iter] - buy_tables[asset][\"leftovers\"][buy_iter]\n",
    "\n",
    "        print(f\"Adding profits: {profits}; sell_iter: {sell_iter}; buy_iter: {buy_iter} \" + \\\n",
    "             f\"for asset: {asset}; days_diff:{days_diff}; leftovers: {leftovers}.\")\n",
    "        if leftovers < 0:\n",
    "            buy_tables[asset][\"leftovers\"][buy_iter] = buy_tables[asset][\"leftovers\"][buy_iter] - subtraction_amount\n",
    "            sell_tables[asset][\"leftovers\"][sell_iter] = 0.0\n",
    "            sell_iter += 1\n",
    "        else:\n",
    "            buy_tables[asset][\"leftovers\"][buy_iter] = 0.0\n",
    "            sell_tables[asset][\"leftovers\"][sell_iter] = sell_tables[asset][\"leftovers\"][sell_iter] - subtraction_amount\n",
    "            buy_iter += 1"
   ]
  },
  {
   "cell_type": "code",
   "execution_count": null,
   "id": "53fc2bfc",
   "metadata": {},
   "outputs": [],
   "source": [
    "yearly_profits"
   ]
  },
  {
   "cell_type": "code",
   "execution_count": null,
   "id": "d8e47e62",
   "metadata": {},
   "outputs": [],
   "source": []
  }
 ],
 "metadata": {
  "kernelspec": {
   "display_name": "Python 3 (ipykernel)",
   "language": "python",
   "name": "python3"
  },
  "language_info": {
   "codemirror_mode": {
    "name": "ipython",
    "version": 3
   },
   "file_extension": ".py",
   "mimetype": "text/x-python",
   "name": "python",
   "nbconvert_exporter": "python",
   "pygments_lexer": "ipython3",
   "version": "3.9.5"
  }
 },
 "nbformat": 4,
 "nbformat_minor": 5
}
